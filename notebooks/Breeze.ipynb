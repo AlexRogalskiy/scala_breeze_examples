{
 "cells": [
  {
   "cell_type": "code",
   "execution_count": 1,
   "metadata": {},
   "outputs": [
    {
     "data": {
      "text/plain": [
       "\u001b[32mimport \u001b[39m\u001b[36m$ivy.$                         \u001b[39m"
      ]
     },
     "execution_count": 1,
     "metadata": {},
     "output_type": "execute_result"
    }
   ],
   "source": [
    "import $ivy.`org.scalanlp::breeze:1.0`"
   ]
  },
  {
   "cell_type": "code",
   "execution_count": 2,
   "metadata": {},
   "outputs": [
    {
     "data": {
      "text/plain": [
       "\u001b[32mimport \u001b[39m\u001b[36mbreeze.linalg._\n",
       "\u001b[39m\n",
       "\u001b[32mimport \u001b[39m\u001b[36mbreeze.numerics._\n",
       "\n",
       "//create a dense vector \n",
       "\u001b[39m\n",
       "\u001b[36mv\u001b[39m: \u001b[32mDenseVector\u001b[39m[\u001b[32mDouble\u001b[39m] = DenseVector(1.0, 2.0, 3.0, 4.0, 5.0)\n",
       "\u001b[36mzeros\u001b[39m: \u001b[32mDenseVector\u001b[39m[\u001b[32mDouble\u001b[39m] = DenseVector(0.0, 0.0, 0.0, 0.0, 0.0)\n",
       "\u001b[36mones\u001b[39m: \u001b[32mDenseVector\u001b[39m[\u001b[32mDouble\u001b[39m] = DenseVector(1.0, 1.0, 1.0, 1.0, 1.0)\n",
       "\u001b[36mfives\u001b[39m: \u001b[32mDenseVector\u001b[39m[\u001b[32mDouble\u001b[39m] = DenseVector(5.0, 5.0, 5.0, 5.0, 5.0, 5.0, 5.0, 5.0, 5.0, 5.0)\n",
       "\u001b[36mrandom\u001b[39m: \u001b[32mDenseVector\u001b[39m[\u001b[32mDouble\u001b[39m] = DenseVector(0.8624450579722085, 0.33033855306513993, 0.5431576733952415, 0.0820870128355975, 0.5944316968851804)\n",
       "\u001b[36msparse\u001b[39m: \u001b[32mSparseVector\u001b[39m[\u001b[32mDouble\u001b[39m] = SparseVector(5)((0,0.0), (1,1.0), (2,0.0), (3,3.0), (4,0.0))"
      ]
     },
     "execution_count": 2,
     "metadata": {},
     "output_type": "execute_result"
    }
   ],
   "source": [
    "import breeze.linalg._\n",
    "import breeze.numerics._\n",
    "\n",
    "//create a dense vector \n",
    "val v = DenseVector(1.0,2.0,3.0,4.0,5.0)\n",
    "\n",
    "//create a vector of zeros\n",
    "val zeros = DenseVector.zeros[Double](5)\n",
    "\n",
    "//create a vector of ones\n",
    "val ones = DenseVector.ones[Double](5)\n",
    "\n",
    "//a vector with a particular number (5.0 repeated 10 times)\n",
    "val fives = DenseVector.fill(10){5.0}\n",
    "\n",
    "//create a vector of random numbers (uniform random numbers between 0 and 1)\n",
    "val random = DenseVector.rand(5)\n",
    "\n",
    "//create a sparse vector\n",
    "val sparse =  SparseVector(0,1.0,0,3.0,0)"
   ]
  },
  {
   "cell_type": "code",
   "execution_count": 3,
   "metadata": {},
   "outputs": [
    {
     "data": {
      "text/plain": [
       "\u001b[36mm1\u001b[39m: \u001b[32mDenseMatrix\u001b[39m[\u001b[32mDouble\u001b[39m] = 1.1       2.2     0.4       \n",
       "3.9       4.333   0.3242    \n",
       "-0.43443  9.4242  -21324.3  \n",
       "\u001b[36mm3\u001b[39m: \u001b[32mDenseMatrix\u001b[39m[\u001b[32mDouble\u001b[39m] = 1.1       2.2     0.4       0.8      \n",
       "3.9       4.333   0.3242    0.71253  \n",
       "-0.43443  9.4242  -21324.3  0.21738  \n",
       "\u001b[36mzeros\u001b[39m: \u001b[32mDenseMatrix\u001b[39m[\u001b[32mDouble\u001b[39m] = 0.0  0.0  0.0  \n",
       "0.0  0.0  0.0  \n",
       "0.0  0.0  0.0  \n",
       "\u001b[36midentity\u001b[39m: \u001b[32mDenseMatrix\u001b[39m[\u001b[32mDouble\u001b[39m] = 1.0  0.0  0.0  0.0  0.0  \n",
       "0.0  1.0  0.0  0.0  0.0  \n",
       "0.0  0.0  1.0  0.0  0.0  \n",
       "0.0  0.0  0.0  1.0  0.0  \n",
       "0.0  0.0  0.0  0.0  1.0  \n",
       "\u001b[36mrandom\u001b[39m: \u001b[32mDenseMatrix\u001b[39m[\u001b[32mDouble\u001b[39m] = 0.48465790345975046  0.4351760316337847   0.9972608918555703   ... (10 total)\n",
       "0.25452092942320026  0.5222593981004111   0.9166580185238569   ...\n",
       "0.43747107499356774  0.482140245437064    0.7766453572796246   ...\n",
       "0.3793340515248409   0.7618253259299055   0.2778807469724085   ...\n",
       "0.9537315348485658   0.6023744322854463   0.4444265824697473   ...\n",
       "0.4817498009506962   0.29652757481821146  0.07059956165076597  ...\n",
       "0.12844475121393217  0.9945684098609013   0.9814182542405954   ...\n",
       "0.25797290662379435  0.20140514963391887  0.198820358303041    ...\n",
       "0.6405821131735514   0.42249951227451144  0.6311190599049934   ...\n",
       "0.23954031341580362  0.6880310450546918   0.8889242967863513   ...\n",
       "\u001b[36mbuilder\u001b[39m: \u001b[32mCSCMatrix\u001b[39m.\u001b[32mBuilder\u001b[39m[\u001b[32mDouble\u001b[39m] = breeze.linalg.CSCMatrix$Builder$mcD$sp@7e3fedce\n",
       "\u001b[36msparseM\u001b[39m: \u001b[32mCSCMatrix\u001b[39m[\u001b[32mDouble\u001b[39m] = 10 x 9 CSCMatrix\n",
       "(1,2) 0.001\n",
       "(3,4) 1.11"
      ]
     },
     "execution_count": 3,
     "metadata": {},
     "output_type": "execute_result"
    }
   ],
   "source": [
    "//Building a dense matrix inline\n",
    "val m1 = DenseMatrix((1.1,2.2,0.4), (3.9,4.333,0.3242), (-0.43443,9.4242,-21324.3))\n",
    "\n",
    "//Building a dense matrix inline\n",
    "val m3 = DenseMatrix((1.1,2.2,0.4,0.8), (3.9,4.333,0.3242,0.71253),(-0.43443,9.4242,-21324.3,0.21738))\n",
    "\n",
    "//A dense matrix of zeros with 3 rows and 3 columns\n",
    "val zeros = DenseMatrix.zeros[Double](3,3)\n",
    "\n",
    "//An identity matrix with dimension 5\n",
    "val identity = DenseMatrix.eye[Double](5)\n",
    "\n",
    "//A matrix with random elements between 0 and 1 with 3 rows and 5 columns\n",
    "val random = DenseMatrix.rand(10,10)\n",
    "\n",
    "//Creating a sparse matrix with 10 rows and 10 columns and two nonzero elements\n",
    "val builder = new CSCMatrix.Builder[Double](rows=10, cols=9)\n",
    "builder.add(3,4, 1.11)\n",
    "builder.add(1,2, 0.001)\n",
    "val sparseM = builder.result()"
   ]
  },
  {
   "cell_type": "code",
   "execution_count": 20,
   "metadata": {},
   "outputs": [
    {
     "name": "stdout",
     "output_type": "stream",
     "text": [
      "Matrix m1:\n",
      "1.1       2.2     0.4       \n",
      "3.9       4.333   0.3242    \n",
      "-0.43443  9.4242  -21324.3  \n",
      "\n",
      "transpose of m1:\n",
      "1.1  3.9     -0.43443  \n",
      "2.2  4.333   9.4242    \n",
      "0.4  0.3242  -21324.3  \n",
      "\n",
      "The determinant of the matrix \"random\":\n",
      "-0.021780638090449098\n",
      "\n",
      "The inverse of the matrix \"random\":\n",
      "0.8103875176582486   1.1036711218321076   0.049128949001345235  ... (10 total)\n",
      "1.1553297297207585   -0.6397426703909562  0.05719118977335183   ...\n",
      "0.6172156864511226   0.04396574650649702  0.6521530753580391    ...\n",
      "-0.5685665985805597  3.8216565640862648   -0.3200342297670953   ...\n",
      "0.14599002348614354  -6.299550935038419   0.866973716523411     ...\n",
      "-0.8591526357247128  -1.2133195729606177  -0.1014095857085725   ...\n",
      "0.4817026445783185   0.39992152441743956  0.45787848661351543   ...\n",
      "-1.0067866154238219  -2.859088863559119   -0.5017942792407835   ...\n",
      "-0.3740328009057847  3.6720851717426113   -0.16854199298643835  ...\n",
      "0.276602382117471    1.570829681263538    -0.6146547706527603   ...\n",
      "\n",
      "The Moore-Penrose pseudoinverse of the matrix \"m3\":\n",
      "-0.7704683270459293   0.434567057425753     -7.849434937506091E-6  \n",
      "0.5726979245394993    -0.11335616179524316  9.024035454559434E-6   \n",
      "2.762840706346051E-4  -6.18637255660168E-5  -4.689061293740586E-5  \n",
      "0.7343365151692116    -0.285769327160708    9.422182007730136E-6   \n",
      "\n",
      "The rank of matrix \"m3\":\n",
      "3\n",
      "\n",
      "The singular value decomposition of matrix \"random\":\n",
      "The left singular vectors:\n",
      "-0.3991676627040266   0.6223977880669178    ... (10 total)\n",
      "-0.28572324153517253  0.10314317866222003   ...\n",
      "-0.3094999570020797   -0.4950134114212834   ...\n",
      "-0.3691670025138853   -0.18079379159541847  ...\n",
      "-0.31493535216866764  -0.10009769008594721  ...\n",
      "-0.22262559252949557  0.15883314728222364   ...\n",
      "-0.3356870053990834   0.2841044865120836    ...\n",
      "-0.2981841649475367   -0.2685005611836929   ...\n",
      "-0.27800820310222835  -0.3615110976151791   ...\n",
      "-0.31514814589737794  0.07424355184912848   ...\n",
      "\n",
      "The right singular vectors:\n",
      "-0.2784923287808798     -0.29394083103210067   ... (10 total)\n",
      "0.4339580751332809      0.11649470018556426    ...\n",
      "-0.17784512880026168    0.07160269198821713    ...\n",
      "0.13058797136963324     -0.43005089950491326   ...\n",
      "-0.0068223198401795495  -0.5626067724997911    ...\n",
      "0.5245671925479239      -0.3356021187871139    ...\n",
      "-0.009367175141656301   0.31269599466547937    ...\n",
      "0.540351365209056       -0.043371471148801743  ...\n",
      "-0.32322640547190606    -0.42512893396890683   ...\n",
      "0.11696311016331849     -0.020184358594555647  ...\n",
      "\n",
      "The singular values:\n",
      "DenseVector(4.984733100558526, 1.4638397685331954, 1.1184839273371319, 0.9629678056620508, 0.7431418157511543, 0.6462668982855995, 0.543284954567333, 0.4328695850405182, 0.26176926571637343, 0.09373604299954018)\n",
      "\n"
     ]
    },
    {
     "data": {
      "text/plain": [
       "\u001b[36mrandom_inv\u001b[39m: \u001b[32mDenseMatrix\u001b[39m[\u001b[32mDouble\u001b[39m] = 0.8103875176582486   1.1036711218321076   0.049128949001345235  ... (10 total)\n",
       "1.1553297297207585   -0.6397426703909562  0.05719118977335183   ...\n",
       "...\n",
       "\u001b[36mm3_mp_inv\u001b[39m: \u001b[32mDenseMatrix\u001b[39m[\u001b[32mDouble\u001b[39m] = -0.7704683270459293   0.434567057425753     -7.849434937506091E-6  \n",
       "0.5726979245394993    -0.11335616179524316  9.024035454559434E-6   \n",
       "...\n",
       "\u001b[36mu\u001b[39m: \u001b[32mDenseMatrix\u001b[39m[\u001b[32mDouble\u001b[39m] = -0.3991676627040266   0.6223977880669178    ... (10 total)\n",
       "-0.28572324153517253  0.10314317866222003   ...\n",
       "...\n",
       "\u001b[36ms\u001b[39m: \u001b[32mDenseVector\u001b[39m[\u001b[32mDouble\u001b[39m] = DenseVector(4.984733100558526, 1.4638397685331954, 1.1184839273371319, 0.9629678056620508, 0.7431418157511543, 0.6462668982855995, 0.543284954567333, 0.4328695850405182, 0.26176926571637343, 0.09373604299954018)\n",
       "\u001b[36mv\u001b[39m: \u001b[32mDenseMatrix\u001b[39m[\u001b[32mDouble\u001b[39m] = -0.2784923287808798     -0.29394083103210067   ... (10 total)\n",
       "0.4339580751332809      0.11649470018556426    ...\n",
       "..."
      ]
     },
     "execution_count": 20,
     "metadata": {},
     "output_type": "execute_result"
    }
   ],
   "source": [
    "//Transpose \n",
    "println(\"Matrix m1:\")\n",
    "println(m1)\n",
    "println(\"\")\n",
    "println(\"transpose of m1:\")\n",
    "println(m1.t)\n",
    "println(\"\")\n",
    "\n",
    "//Determinant   \n",
    "println(\"The determinant of the matrix \\\"random\\\":\")\n",
    "println(det(random))\n",
    "println(\"\")\n",
    "\n",
    "//Inverse\n",
    "println(\"The inverse of the matrix \\\"random\\\":\")\n",
    "val random_inv = inv(random)\n",
    "println(random_inv)\n",
    "println(\"\")\n",
    "\n",
    "//Moore-Penrose Pseudoinverse (for non-square matrices)\n",
    "println(\"The Moore-Penrose pseudoinverse of the matrix \\\"m3\\\":\")\n",
    "val m3_mp_inv = pinv(m3)\n",
    "println(m3_mp_inv)\n",
    "println(\"\")\n",
    "\n",
    "//Rank\n",
    "println(\"The rank of matrix \\\"m3\\\":\")\n",
    "println(rank(m3))\n",
    "println(\"\")\n",
    "\n",
    "//Singular Value Decomposition\n",
    "val svd.SVD(u,s,v) = svd(random)\n",
    "println(\"The singular value decomposition of matrix \\\"random\\\":\")\n",
    "println(\"The left singular vectors:\")\n",
    "println(u)\n",
    "println(\"\")\n",
    "\n",
    "println(\"The right singular vectors:\")\n",
    "println(v)\n",
    "println(\"\")\n",
    "\n",
    "println(\"The singular values:\")\n",
    "println(s)\n",
    "println(\"\")"
   ]
  },
  {
   "cell_type": "code",
   "execution_count": 4,
   "metadata": {},
   "outputs": [
    {
     "name": "stderr",
     "output_type": "stream",
     "text": [
      "Nov 10, 2020 6:20:52 PM com.github.fommil.netlib.BLAS <clinit>\n",
      "WARNING: Failed to load implementation from: com.github.fommil.netlib.NativeSystemBLAS\n",
      "Nov 10, 2020 6:20:52 PM com.github.fommil.netlib.BLAS <clinit>\n",
      "WARNING: Failed to load implementation from: com.github.fommil.netlib.NativeRefBLAS\n"
     ]
    },
    {
     "name": "stdout",
     "output_type": "stream",
     "text": [
      "true\n"
     ]
    },
    {
     "data": {
      "text/plain": [
       "\u001b[36mm4\u001b[39m: \u001b[32mDenseMatrix\u001b[39m[\u001b[32mDouble\u001b[39m] = 9.616228000000001   15.722280000000001  -8528.56676          2.5345180000000003  \n",
       "21.047857794000002  30.41021464         -6910.373301399999   6.2778670860000005  \n",
       "9300.192156         -200924.5887474     4.547257733715536E8  -4629.108852774     \n",
       "\u001b[36mm5\u001b[39m: \u001b[32mDenseVector\u001b[39m[\u001b[32mDouble\u001b[39m] = DenseVector(3.7, 8.5572, -21315.31023)\n",
       "\u001b[36mres3_3\u001b[39m: \u001b[32mBoolean\u001b[39m = true"
      ]
     },
     "execution_count": 4,
     "metadata": {},
     "output_type": "execute_result"
    }
   ],
   "source": [
    "//matrix multiplication of two matrices with the same dimensions\n",
    "val m4 = m1 * m3\n",
    "\n",
    "//The result of multiplying a square matrix with the identity matrix (of the same dimensionality) is again the same matrix.\n",
    "println(m1 == m1 * DenseMatrix.eye[Double](3))\n",
    "\n",
    "//Mutiplying a matrix with a vector is a vector.\n",
    "val m5 = m1 * DenseVector.ones[Double](3)\n",
    "\n",
    "//elementwise matrix operation + \n",
    "m1 + zeros == m1"
   ]
  },
  {
   "cell_type": "code",
   "execution_count": 5,
   "metadata": {
    "scrolled": true
   },
   "outputs": [
    {
     "name": "stderr",
     "output_type": "stream",
     "text": [
      "Downloading https://repo1.maven.org/maven2/org/plotly-scala/plotly-almond_2.12/0.7.6/plotly-almond_2.12-0.7.6.pom\n",
      "Downloaded https://repo1.maven.org/maven2/org/plotly-scala/plotly-almond_2.12/0.7.6/plotly-almond_2.12-0.7.6.pom\n",
      "Downloading https://repo1.maven.org/maven2/org/plotly-scala/plotly-core_2.12/0.7.6/plotly-core_2.12-0.7.6.pom\n",
      "Downloading https://repo1.maven.org/maven2/org/plotly-scala/plotly-render_2.12/0.7.6/plotly-render_2.12-0.7.6.pom\n",
      "Downloaded https://repo1.maven.org/maven2/org/plotly-scala/plotly-core_2.12/0.7.6/plotly-core_2.12-0.7.6.pom\n",
      "Downloaded https://repo1.maven.org/maven2/org/plotly-scala/plotly-render_2.12/0.7.6/plotly-render_2.12-0.7.6.pom\n",
      "Downloading https://repo1.maven.org/maven2/org/webjars/bower/plotly.js/1.52.2/plotly.js-1.52.2.pom\n",
      "Downloading https://repo1.maven.org/maven2/io/github/alexarchambault/data-class_2.12/0.2.2/data-class_2.12-0.2.2.pom\n",
      "Downloaded https://repo1.maven.org/maven2/org/webjars/bower/plotly.js/1.52.2/plotly.js-1.52.2.pom\n",
      "Downloaded https://repo1.maven.org/maven2/io/github/alexarchambault/data-class_2.12/0.2.2/data-class_2.12-0.2.2.pom\n",
      "Downloading https://repo1.maven.org/maven2/io/github/alexarchambault/data-class_2.12/0.2.2/data-class_2.12-0.2.2.jar\n",
      "Downloading https://repo1.maven.org/maven2/org/plotly-scala/plotly-almond_2.12/0.7.6/plotly-almond_2.12-0.7.6-sources.jar\n",
      "Downloading https://repo1.maven.org/maven2/org/plotly-scala/plotly-core_2.12/0.7.6/plotly-core_2.12-0.7.6-sources.jar\n",
      "Downloading https://repo1.maven.org/maven2/org/webjars/bower/plotly.js/1.52.2/plotly.js-1.52.2.jar\n",
      "Downloading https://repo1.maven.org/maven2/org/webjars/bower/plotly.js/1.52.2/plotly.js-1.52.2-sources.jar\n",
      "Downloading https://repo1.maven.org/maven2/org/plotly-scala/plotly-render_2.12/0.7.6/plotly-render_2.12-0.7.6.jar\n",
      "Downloaded https://repo1.maven.org/maven2/org/webjars/bower/plotly.js/1.52.2/plotly.js-1.52.2-sources.jar\n",
      "Downloading https://repo1.maven.org/maven2/org/plotly-scala/plotly-render_2.12/0.7.6/plotly-render_2.12-0.7.6-sources.jar\n",
      "Downloaded https://repo1.maven.org/maven2/org/plotly-scala/plotly-core_2.12/0.7.6/plotly-core_2.12-0.7.6-sources.jar\n",
      "Downloading https://repo1.maven.org/maven2/org/plotly-scala/plotly-almond_2.12/0.7.6/plotly-almond_2.12-0.7.6.jar\n",
      "Downloaded https://repo1.maven.org/maven2/org/plotly-scala/plotly-almond_2.12/0.7.6/plotly-almond_2.12-0.7.6-sources.jar\n",
      "Downloading https://repo1.maven.org/maven2/org/plotly-scala/plotly-core_2.12/0.7.6/plotly-core_2.12-0.7.6.jar\n",
      "Downloaded https://repo1.maven.org/maven2/org/plotly-scala/plotly-render_2.12/0.7.6/plotly-render_2.12-0.7.6-sources.jar\n",
      "Downloading https://repo1.maven.org/maven2/io/github/alexarchambault/data-class_2.12/0.2.2/data-class_2.12-0.2.2-sources.jar\n",
      "Downloaded https://repo1.maven.org/maven2/org/plotly-scala/plotly-almond_2.12/0.7.6/plotly-almond_2.12-0.7.6.jar\n",
      "Downloaded https://repo1.maven.org/maven2/io/github/alexarchambault/data-class_2.12/0.2.2/data-class_2.12-0.2.2.jar\n",
      "Downloaded https://repo1.maven.org/maven2/io/github/alexarchambault/data-class_2.12/0.2.2/data-class_2.12-0.2.2-sources.jar\n",
      "Downloaded https://repo1.maven.org/maven2/org/plotly-scala/plotly-core_2.12/0.7.6/plotly-core_2.12-0.7.6.jar\n",
      "Downloaded https://repo1.maven.org/maven2/org/plotly-scala/plotly-render_2.12/0.7.6/plotly-render_2.12-0.7.6.jar\n",
      "Downloaded https://repo1.maven.org/maven2/org/webjars/bower/plotly.js/1.52.2/plotly.js-1.52.2.jar\n"
     ]
    },
    {
     "data": {
      "text/plain": [
       "\u001b[32mimport \u001b[39m\u001b[36m$ivy.$                                      \n",
       "\u001b[39m\n",
       "\u001b[32mimport \u001b[39m\u001b[36mplotly._, plotly.element._, plotly.layout._, plotly.Almond._\n",
       "\n",
       "\u001b[39m"
      ]
     },
     "execution_count": 5,
     "metadata": {},
     "output_type": "execute_result"
    }
   ],
   "source": [
    "import $ivy.`org.plotly-scala::plotly-almond:0.7.6`\n",
    "import plotly._, plotly.element._, plotly.layout._, plotly.Almond._\n",
    "\n",
    "repl.pprinter() = repl.pprinter().copy(defaultHeight = 3)"
   ]
  },
  {
   "cell_type": "code",
   "execution_count": 6,
   "metadata": {},
   "outputs": [
    {
     "data": {
      "text/html": [
       "\n",
       "      <script type=\"text/javascript\">\n",
       "        require.config({\n",
       "  paths: {\n",
       "    d3: 'https://cdnjs.cloudflare.com/ajax/libs/d3/3.5.17/d3.min',\n",
       "    plotly: 'https://cdn.plot.ly/plotly-1.52.2.min',\n",
       "    jquery: 'https://code.jquery.com/jquery-3.3.1.min'\n",
       "  },\n",
       "\n",
       "  shim: {\n",
       "    plotly: {\n",
       "      deps: ['d3', 'jquery'],\n",
       "      exports: 'plotly'\n",
       "    }\n",
       "  }\n",
       "});\n",
       "        \n",
       "\n",
       "        require(['plotly'], function(Plotly) {\n",
       "          window.Plotly = Plotly;\n",
       "        });\n",
       "      </script>\n",
       "    "
      ]
     },
     "metadata": {},
     "output_type": "display_data"
    },
    {
     "data": {
      "application/vnd.plotly.v1+json": {
       "config": {
        "editable": false,
        "responsive": false,
        "showEditInChartStudio": false
       },
       "data": [
        {
         "mode": "markers",
         "type": "scatter",
         "x": [
          1,
          2,
          3,
          4
         ],
         "y": [
          10,
          15,
          13,
          17
         ]
        },
        {
         "mode": "lines",
         "type": "scatter",
         "x": [
          2,
          3,
          4,
          5
         ],
         "y": [
          16,
          5,
          11,
          9
         ]
        },
        {
         "mode": "lines+markers",
         "type": "scatter",
         "x": [
          1,
          2,
          3,
          4
         ],
         "y": [
          12,
          9,
          15,
          12
         ]
        }
       ],
       "layout": {
        "title": "Line and Scatter Plot"
       }
      },
      "text/html": [
       "<div class=\"chart\" id=\"plot-b4a42cb8-9b1d-45aa-85a8-f81db81808b1\"></div>\n",
       "<script>require(['plotly'], function(Plotly) {\n",
       "  (function () {\n",
       "  var data0 = {\"x\":[1.0,2.0,3.0,4.0],\"y\":[10.0,15.0,13.0,17.0],\"mode\":\"markers\",\"type\":\"scatter\"};\n",
       "  var data1 = {\"x\":[2.0,3.0,4.0,5.0],\"y\":[16.0,5.0,11.0,9.0],\"mode\":\"lines\",\"type\":\"scatter\"};\n",
       "  var data2 = {\"x\":[1.0,2.0,3.0,4.0],\"y\":[12.0,9.0,15.0,12.0],\"mode\":\"lines+markers\",\"type\":\"scatter\"};\n",
       "\n",
       "  var data = [data0, data1, data2];\n",
       "  var layout = {\"title\":\"Line and Scatter Plot\"};\n",
       " var config = {\"showEditInChartStudio\":false,\"responsive\":false,\"editable\":false};\n",
       "\n",
       "  Plotly.plot('plot-b4a42cb8-9b1d-45aa-85a8-f81db81808b1', data, layout, config);\n",
       "})();\n",
       "});\n",
       "      </script>\n",
       "           "
      ]
     },
     "metadata": {},
     "output_type": "display_data"
    },
    {
     "data": {
      "text/plain": [
       "\u001b[36mtrace1\u001b[39m: \u001b[32mScatter\u001b[39m = \u001b[33mScatter\u001b[39m(\n",
       "  \u001b[33mSome\u001b[39m(\u001b[33mDoubles\u001b[39m(\u001b[33mList\u001b[39m(\u001b[32m1.0\u001b[39m, \u001b[32m2.0\u001b[39m, \u001b[32m3.0\u001b[39m, \u001b[32m4.0\u001b[39m))),\n",
       "...\n",
       "\u001b[36mtrace2\u001b[39m: \u001b[32mScatter\u001b[39m = \u001b[33mScatter\u001b[39m(\n",
       "  \u001b[33mSome\u001b[39m(\u001b[33mDoubles\u001b[39m(\u001b[33mList\u001b[39m(\u001b[32m2.0\u001b[39m, \u001b[32m3.0\u001b[39m, \u001b[32m4.0\u001b[39m, \u001b[32m5.0\u001b[39m))),\n",
       "...\n",
       "\u001b[36mtrace3\u001b[39m: \u001b[32mScatter\u001b[39m = \u001b[33mScatter\u001b[39m(\n",
       "  \u001b[33mSome\u001b[39m(\u001b[33mDoubles\u001b[39m(\u001b[33mList\u001b[39m(\u001b[32m1.0\u001b[39m, \u001b[32m2.0\u001b[39m, \u001b[32m3.0\u001b[39m, \u001b[32m4.0\u001b[39m))),\n",
       "...\n",
       "\u001b[36mdata\u001b[39m: \u001b[32mSeq\u001b[39m[\u001b[32mScatter\u001b[39m] = \u001b[33mList\u001b[39m(\n",
       "  \u001b[33mScatter\u001b[39m(\n",
       "...\n",
       "\u001b[36mlayout\u001b[39m: \u001b[32mLayout\u001b[39m = \u001b[33mLayout\u001b[39m(\n",
       "  \u001b[33mSome\u001b[39m(\u001b[32m\"Line and Scatter Plot\"\u001b[39m),\n",
       "...\n",
       "\u001b[36mres5_5\u001b[39m: \u001b[32mString\u001b[39m = \u001b[32m\"plot-b4a42cb8-9b1d-45aa-85a8-f81db81808b1\"\u001b[39m"
      ]
     },
     "execution_count": 6,
     "metadata": {},
     "output_type": "execute_result"
    }
   ],
   "source": [
    "val trace1 = Scatter(\n",
    "  Seq(1, 2, 3, 4),\n",
    "  Seq(10, 15, 13, 17),\n",
    "  mode = ScatterMode(ScatterMode.Markers)\n",
    ")\n",
    "\n",
    "val trace2 = Scatter(\n",
    "  Seq(2, 3, 4, 5),\n",
    "  Seq(16, 5, 11, 9),\n",
    "  mode = ScatterMode(ScatterMode.Lines)\n",
    ")\n",
    "\n",
    "val trace3 = Scatter(\n",
    "  Seq(1, 2, 3, 4),\n",
    "  Seq(12, 9, 15, 12),\n",
    "  mode = ScatterMode(ScatterMode.Lines, ScatterMode.Markers)\n",
    ")\n",
    "\n",
    "val data = Seq(trace1, trace2, trace3)\n",
    "\n",
    "val layout = Layout(\n",
    "  title = \"Line and Scatter Plot\"\n",
    ")\n",
    "\n",
    "plot(data, layout)"
   ]
  },
  {
   "cell_type": "code",
   "execution_count": null,
   "metadata": {},
   "outputs": [],
   "source": []
  }
 ],
 "metadata": {
  "kernelspec": {
   "display_name": "Scala 2.12",
   "language": "scala",
   "name": "scala212"
  },
  "language_info": {
   "codemirror_mode": "text/x-scala",
   "file_extension": ".sc",
   "mimetype": "text/x-scala",
   "name": "scala",
   "nbconvert_exporter": "script",
   "version": "2.12.12"
  }
 },
 "nbformat": 4,
 "nbformat_minor": 4
}
